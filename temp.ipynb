{
 "cells": [
  {
   "cell_type": "code",
   "execution_count": 13,
   "metadata": {},
   "outputs": [
    {
     "data": {
      "text/plain": [
       "tensor(633.8342)"
      ]
     },
     "execution_count": 13,
     "metadata": {},
     "output_type": "execute_result"
    }
   ],
   "source": [
    "# Code copied from:\n",
    "# https://gist.github.com/alper111/8233cdb0414b4cb5853f2f730ab95a49\n",
    "\n",
    "import torch\n",
    "import torchvision\n",
    "\n",
    "\n",
    "class VGGPerceptualLoss(torch.nn.Module):\n",
    "    def __init__(self, resize=True):\n",
    "        super(VGGPerceptualLoss, self).__init__()\n",
    "        features = torchvision.models.vgg16(pretrained=True).features\n",
    "        blocks = []\n",
    "        blocks.append(features[:4].eval())\n",
    "        blocks.append(features[4:9].eval())\n",
    "        blocks.append(features[9:16].eval())\n",
    "        blocks.append(features[16:23].eval())\n",
    "        for bl in blocks:\n",
    "            for p in bl.parameters():\n",
    "                p.requires_grad = False\n",
    "        self.blocks = torch.nn.ModuleList(blocks)\n",
    "        self.transform = torch.nn.functional.interpolate\n",
    "        self.resize = resize\n",
    "        self.register_buffer(\n",
    "            \"mean\", torch.tensor([0.485, 0.456, 0.406]).view(1, 3, 1, 1)\n",
    "        )\n",
    "        self.register_buffer(\n",
    "            \"std\", torch.tensor([0.229, 0.224, 0.225]).view(1, 3, 1, 1)\n",
    "        )\n",
    "\n",
    "    def forward(self, x, y, feature_layers=[], style_layers=[0, 1, 2, 3]):\n",
    "        if x.shape != y.shape:\n",
    "            raise ValueError(\n",
    "                f\"Input and target have different shapes: {x.shape} != {y.shape}\"\n",
    "            )\n",
    "        \n",
    "        total_pixels = x.shape[-2] * x.shape[-1]\n",
    "\n",
    "        if x.shape[1] != 3:\n",
    "            x = x.repeat(1, 3, 1, 1)\n",
    "        if y.shape[1] != 3:\n",
    "            y = y.repeat(1, 3, 1, 1)\n",
    "\n",
    "        x = (x - self.mean) / self.std\n",
    "        y = (y - self.mean) / self.std\n",
    "\n",
    "        if self.resize:\n",
    "            x = self.transform(\n",
    "                x, mode=\"bilinear\", size=(224, 224), align_corners=False\n",
    "            )\n",
    "            y = self.transform(\n",
    "                y, mode=\"bilinear\", size=(224, 224), align_corners=False\n",
    "            )\n",
    "\n",
    "        loss = 0.0\n",
    "        for i, block in enumerate(self.blocks):\n",
    "            x = block(x)\n",
    "            y = block(y)\n",
    "            # \"All layers used for Gram matrix computation are post-activated with ReLU to better incorporate non-linearity\"\n",
    "            x = torch.nn.functional.relu(x)\n",
    "            y = torch.nn.functional.relu(y)\n",
    "            if i in feature_layers:\n",
    "                loss += torch.nn.functional.mse_loss(x, y)\n",
    "            if i in style_layers:\n",
    "                act_x = x.reshape(x.shape[0], x.shape[1], -1)\n",
    "                act_y = y.reshape(y.shape[0], y.shape[1], -1)\n",
    "                gram_x = act_x @ act_x.permute(0, 2, 1)\n",
    "                gram_y = act_y @ act_y.permute(0, 2, 1)\n",
    "                loss += torch.nn.functional.mse_loss(gram_x, gram_y)\n",
    "        return loss / total_pixels\n",
    "\n",
    "\n",
    "loss = VGGPerceptualLoss(resize=False)\n",
    "\n",
    "loss(\n",
    "    torch.rand(1, 3, 1000, 1000),\n",
    "    torch.rand(1, 3, 1000, 1000),\n",
    ")\n"
   ]
  }
 ],
 "metadata": {
  "kernelspec": {
   "display_name": ".venv",
   "language": "python",
   "name": "python3"
  },
  "language_info": {
   "codemirror_mode": {
    "name": "ipython",
    "version": 3
   },
   "file_extension": ".py",
   "mimetype": "text/x-python",
   "name": "python",
   "nbconvert_exporter": "python",
   "pygments_lexer": "ipython3",
   "version": "3.10.7"
  },
  "orig_nbformat": 4
 },
 "nbformat": 4,
 "nbformat_minor": 2
}
